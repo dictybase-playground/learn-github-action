{
 "cells": [
  {
   "cell_type": "code",
   "execution_count": 1,
   "metadata": {},
   "outputs": [],
   "source": [
    "# import dependencies\n",
    "from github import Github\n",
    "from config import access_token, login"
   ]
  },
  {
   "cell_type": "code",
   "execution_count": 2,
   "metadata": {},
   "outputs": [
    {
     "data": {
      "text/plain": [
       "'<github.MainClass.Github object at 0x000001E23A9C0FD0>'"
      ]
     },
     "execution_count": 2,
     "metadata": {},
     "output_type": "execute_result"
    }
   ],
   "source": [
    "g = Github(access_token)\n",
    "f\"{g}\""
   ]
  },
  {
   "cell_type": "code",
   "execution_count": 3,
   "metadata": {},
   "outputs": [
    {
     "data": {
      "text/plain": [
       "AuthenticatedUser(login=None)"
      ]
     },
     "execution_count": 3,
     "metadata": {},
     "output_type": "execute_result"
    }
   ],
   "source": [
    "g.get_user()"
   ]
  },
  {
   "cell_type": "code",
   "execution_count": null,
   "metadata": {},
   "outputs": [],
   "source": [
    "g.get_repo(\"oimartin/learn-github-action\")"
   ]
  },
  {
   "cell_type": "code",
   "execution_count": null,
   "metadata": {},
   "outputs": [],
   "source": [
    "g1 = Github(login)"
   ]
  },
  {
   "cell_type": "code",
   "execution_count": null,
   "metadata": {},
   "outputs": [],
   "source": [
    "access_token"
   ]
  },
  {
   "cell_type": "code",
   "execution_count": null,
   "metadata": {},
   "outputs": [],
   "source": [
    "Github(base_url=\"https://{hostname}/api/v3\")"
   ]
  },
  {
   "cell_type": "code",
   "execution_count": 7,
   "metadata": {},
   "outputs": [],
   "source": [
    "repos = g.get_user().get_repos()"
   ]
  },
  {
   "cell_type": "code",
   "execution_count": 8,
   "metadata": {},
   "outputs": [
    {
     "data": {
      "text/plain": [
       "<github.PaginatedList.PaginatedList at 0x1e23aaa5b38>"
      ]
     },
     "execution_count": 8,
     "metadata": {},
     "output_type": "execute_result"
    }
   ],
   "source": [
    "repos"
   ]
  },
  {
   "cell_type": "code",
   "execution_count": 9,
   "metadata": {},
   "outputs": [
    {
     "name": "stdout",
     "output_type": "stream",
     "text": [
      "Real_Tech_Influence\n",
      "dictyBase-Requests\n",
      "Stock-Center-Orders\n",
      "User-requests\n",
      "learn-github-action\n",
      "Belly_Button_HW14\n",
      "Cancer_Machine_Learning\n",
      "Chatelettes\n",
      "Chicago_Energy\n",
      "DSC_GWDI\n",
      "gff3-convert\n",
      "GWDI_Analysis\n",
      "HW_NU_DataScience_Bootcamp\n",
      "Netflix_Podcasts\n",
      "NUCHI201811DATA2\n",
      "oimartin.github.io\n",
      "practice\n",
      "python-challenge\n",
      "Real_Tech_Influence\n",
      "Final-Project-ML-Cancer\n",
      "ML-Cancer-Final-Project\n"
     ]
    }
   ],
   "source": [
    "for repo in repos:\n",
    "    print(repo.name)"
   ]
  },
  {
   "cell_type": "code",
   "execution_count": 11,
   "metadata": {},
   "outputs": [
    {
     "name": "stdout",
     "output_type": "stream",
     "text": [
      "Real_Tech_Influence\n",
      "dictyBase-Requests\n",
      "Stock-Center-Orders\n",
      "User-requests\n",
      "learn-github-action\n",
      "Belly_Button_HW14\n",
      "Cancer_Machine_Learning\n",
      "Chatelettes\n",
      "Chicago_Energy\n",
      "DSC_GWDI\n",
      "gff3-convert\n",
      "GWDI_Analysis\n",
      "HW_NU_DataScience_Bootcamp\n",
      "Netflix_Podcasts\n",
      "NUCHI201811DATA2\n",
      "oimartin.github.io\n",
      "practice\n",
      "python-challenge\n",
      "Real_Tech_Influence\n",
      "Final-Project-ML-Cancer\n",
      "ML-Cancer-Final-Project\n"
     ]
    }
   ],
   "source": [
    "for post in repos:\n",
    "    print(post.name)"
   ]
  },
  {
   "cell_type": "code",
   "execution_count": null,
   "metadata": {},
   "outputs": [],
   "source": []
  }
 ],
 "metadata": {
  "kernelspec": {
   "display_name": "Python 3",
   "language": "python",
   "name": "python3"
  },
  "language_info": {
   "codemirror_mode": {
    "name": "ipython",
    "version": 3
   },
   "file_extension": ".py",
   "mimetype": "text/x-python",
   "name": "python",
   "nbconvert_exporter": "python",
   "pygments_lexer": "ipython3",
   "version": "3.7.2"
  }
 },
 "nbformat": 4,
 "nbformat_minor": 2
}
