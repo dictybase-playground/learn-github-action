{
 "cells": [
  {
   "cell_type": "code",
   "execution_count": 1,
   "metadata": {},
   "outputs": [],
   "source": [
    "# import dependencies\n",
    "from github import Github\n",
    "from config import access_token, login\n",
    "g = Github(access_token)"
   ]
  },
  {
   "cell_type": "code",
   "execution_count": 2,
   "metadata": {},
   "outputs": [
    {
     "name": "stdout",
     "output_type": "stream",
     "text": [
      "Real_Tech_Influence\n",
      "dictyBase-Requests\n",
      "Stock-Center-Orders\n",
      "User-requests\n",
      "learn-github-action\n",
      "Belly_Button_HW14\n",
      "Cancer_Machine_Learning\n",
      "Chatelettes\n",
      "Chicago_Energy\n",
      "DSC_GWDI\n",
      "gff3-convert\n",
      "GWDI_Analysis\n",
      "HW_NU_DataScience_Bootcamp\n",
      "Netflix_Podcasts\n",
      "NUCHI201811DATA2\n",
      "oimartin.github.io\n",
      "practice\n",
      "python-challenge\n",
      "Real_Tech_Influence\n",
      "Final-Project-ML-Cancer\n",
      "ML-Cancer-Final-Project\n"
     ]
    }
   ],
   "source": [
    "# w. PyGithub get list of repos I have access to\n",
    "repos = g.get_user().get_repos()\n",
    "for repo in repos:\n",
    "    print(repo.name)"
   ]
  },
  {
   "cell_type": "code",
   "execution_count": 4,
   "metadata": {},
   "outputs": [
    {
     "data": {
      "text/plain": [
       "Repository(full_name=\"dictybase-playground/learn-github-action\")"
      ]
     },
     "execution_count": 4,
     "metadata": {},
     "output_type": "execute_result"
    }
   ],
   "source": [
    "# w. PyGithub get access to learn_github_action repo\n",
    "\n",
    "learn_github_action = g.get_repo(\"dictybase-playground/learn-github-action\")\n",
    "learn_github_action"
   ]
  },
  {
   "cell_type": "code",
   "execution_count": 13,
   "metadata": {},
   "outputs": [
    {
     "data": {
      "text/plain": [
       "'first issue is Issue(title=\"Delete python_package_test.yml\", number=1), second issue is Issue(title=\"test issue\", number=2), third issue is Issue(title=\"test 2\", number=3), fourth issue is Issue(title=\"test 3\", number=4)'"
      ]
     },
     "execution_count": 13,
     "metadata": {},
     "output_type": "execute_result"
    }
   ],
   "source": [
    "# w. PyGithub list first 4 issues\n",
    "\n",
    "issue_1 = learn_github_action.get_issue(number=1)\n",
    "issue_2 = learn_github_action.get_issue(number=2)\n",
    "issue_3 = learn_github_action.get_issue(number=3)\n",
    "issue_4 = learn_github_action.get_issue(number=4)\n",
    "\n",
    "f\"first issue is {issue_1}, second issue is {issue_2}, third issue is {issue_3}, fourth issue is {issue_4}\""
   ]
  },
  {
   "cell_type": "code",
   "execution_count": null,
   "metadata": {},
   "outputs": [],
   "source": []
  }
 ],
 "metadata": {
  "kernelspec": {
   "display_name": "Python 3",
   "language": "python",
   "name": "python3"
  },
  "language_info": {
   "codemirror_mode": {
    "name": "ipython",
    "version": 3
   },
   "file_extension": ".py",
   "mimetype": "text/x-python",
   "name": "python",
   "nbconvert_exporter": "python",
   "pygments_lexer": "ipython3",
   "version": "3.7.2"
  }
 },
 "nbformat": 4,
 "nbformat_minor": 2
}
