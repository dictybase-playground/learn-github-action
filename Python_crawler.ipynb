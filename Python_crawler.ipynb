{
 "cells": [
  {
   "cell_type": "code",
   "execution_count": 1,
   "metadata": {},
   "outputs": [],
   "source": [
    "#Import dependencies: HTTP library\n",
    "import requests\n",
    "\n",
    "#Import regular expressions library\n",
    "import re"
   ]
  },
  {
   "cell_type": "code",
   "execution_count": 2,
   "metadata": {},
   "outputs": [],
   "source": [
    "# Call GitHub API to get json file of learn-github-action\n",
    "# calls info on the issue and only the first comment of the issue\n",
    "issues_json = requests.get('https://api.github.com/repos/dictybase-playground/learn-github-action/issues').json()"
   ]
  },
  {
   "cell_type": "code",
   "execution_count": 3,
   "metadata": {},
   "outputs": [
    {
     "name": "stdout",
     "output_type": "stream",
     "text": [
      "Please enter issue id to receive first comment: 590456660\n"
     ]
    }
   ],
   "source": [
    "# Ask user to input issue id\n",
    "issue_id_input = int(input('Please enter issue id to receive first comment: '))     "
   ]
  },
  {
   "cell_type": "code",
   "execution_count": 4,
   "metadata": {},
   "outputs": [
    {
     "name": "stdout",
     "output_type": "stream",
     "text": [
      "This is the first comment of 590456660: test 4 first comment\r\n",
      "test@test.com\n"
     ]
    }
   ],
   "source": [
    "# Loop through json call for issue ids that match\n",
    "# user input from user and print the body of the first comment\n",
    "for data in issues_json:\n",
    "    if issue_id_input == data['id']:\n",
    "        comment_text = data['body']\n",
    "\n",
    "print(f\"This is the first comment of {issue_id_input}: {comment_text}\")"
   ]
  },
  {
   "cell_type": "code",
   "execution_count": 5,
   "metadata": {},
   "outputs": [
    {
     "name": "stdout",
     "output_type": "stream",
     "text": [
      "['test@test.com']\n"
     ]
    }
   ],
   "source": [
    "# Use re to find emails within first comment of issue\n",
    "emails = re.findall('\\S+@\\S+', comment_text)\n",
    "\n",
    "# Print list of emails\n",
    "print(emails)"
   ]
  }
 ],
 "metadata": {
  "kernelspec": {
   "display_name": "Python 3",
   "language": "python",
   "name": "python3"
  },
  "language_info": {
   "codemirror_mode": {
    "name": "ipython",
    "version": 3
   },
   "file_extension": ".py",
   "mimetype": "text/x-python",
   "name": "python",
   "nbconvert_exporter": "python",
   "pygments_lexer": "ipython3",
   "version": "3.7.2"
  }
 },
 "nbformat": 4,
 "nbformat_minor": 2
}
